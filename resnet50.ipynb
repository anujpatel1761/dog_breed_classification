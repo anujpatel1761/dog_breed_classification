{
 "cells": [
  {
   "cell_type": "markdown",
   "metadata": {},
   "source": [
    "1. Project Overview"
   ]
  },
  {
   "cell_type": "markdown",
   "metadata": {},
   "source": [
    "# Dog Breed Classification with ResNet-50\n",
    "\n",
    "This notebook demonstrates the process of building a dog breed classification model using the Stanford Dogs Dataset and the ResNet-50 architecture. We'll utilize transfer learning to leverage pre-trained features, fine-tune the model, and evaluate its performance.\n",
    "\n",
    "## Table of Contents\n",
    "1. [Imports](#Imports)\n",
    "2. [Configuration and Hyperparameters](#Configuration-and-Hyperparameters)\n",
    "3. [Data Preprocessing](#Data-Preprocessing)\n",
    "4. [Creating Data Loaders](#Creating-Data-Loaders)\n",
    "5. [Model Definition](#Model-Definition)\n",
    "6. [Model Visualization](#Model-Visualization)\n",
    "7. [Defining Loss Function and Optimizer](#Defining-Loss-Function-and-Optimizer)\n",
    "8. [Training the Model](#Training-the-Model)\n",
    "9. [Saving the Model](#Saving-the-Model)\n",
    "10. [Visualizing Training Metrics](#Visualizing-Training-Metrics)\n",
    "11. [Conclusion](#Conclusion)\n"
   ]
  },
  {
   "cell_type": "markdown",
   "metadata": {},
   "source": [
    "2. Imports\n"
   ]
  },
  {
   "cell_type": "code",
   "execution_count": 1,
   "metadata": {},
   "outputs": [],
   "source": [
    "# Import Statements\n",
    "import sys\n",
    "import torch\n",
    "import torchvision\n",
    "import torch.nn.functional as F\n",
    "from torch import nn, optim\n",
    "from torch.utils.data import DataLoader\n",
    "from torchviz import make_dot\n",
    "import matplotlib.pyplot as plt\n",
    "import seaborn as sns\n",
    "import numpy as np\n",
    "import os\n",
    "from sklearn.preprocessing import LabelEncoder\n",
    "import pandas\n",
    "from torchvision import transforms\n",
    "from sklearn.model_selection import StratifiedShuffleSplit\n",
    "from torch.utils.data import Dataset, DataLoader\n",
    "import time \n",
    "import torchmetrics\n",
    "from tqdm import tqdm \n",
    "import os\n",
    "import scipy.io\n",
    "import pandas as pd"
   ]
  },
  {
   "cell_type": "markdown",
   "metadata": {},
   "source": [
    "## Imports\n",
    "\n",
    "We begin by importing the necessary libraries and modules. This includes PyTorch for building and training the model, Torchvision for pre-trained models and image transformations, and other utility libraries for data handling and visualization.\n",
    "\n",
    "**Note:** Ensure that the `mobilenetmodel` module (which contains `data_preprocess`, `create_data_loaders`, `train_model`, and `visualize_training` functions) is available in your working directory or Python path.\n"
   ]
  },
  {
   "cell_type": "markdown",
   "metadata": {},
   "source": [
    "3. Configuration and Hyperparameters\n"
   ]
  },
  {
   "cell_type": "markdown",
   "metadata": {},
   "source": [
    "## Configuration and Hyperparameters\n",
    "\n",
    "Here, we define the configuration settings and hyperparameters for our model training:\n",
    "\n",
    "- **data_dir:** Directory where the Stanford Dogs Dataset is stored.\n",
    "- **sample_size:** Number of samples to use. Set to `None` to use the entire dataset.\n",
    "- **batch_size:** Number of samples per batch during training.\n",
    "- **num_epochs:** Number of training epochs.\n",
    "- **learning_rate:** Learning rate for the optimizer.\n",
    "- **num_classes:** Total number of dog breed classes (120).\n",
    "- **val_split:** Proportion of data reserved for validation.\n",
    "- **model_save_path:** Directory to save the trained model and optimizer.\n",
    "- **model_filename & optimizer_filename:** Filenames for saving the model and optimizer states.\n",
    "\n",
    "We also ensure that the directory for saving models exists.\n"
   ]
  },
  {
   "cell_type": "code",
   "execution_count": 2,
   "metadata": {},
   "outputs": [],
   "source": [
    "# Configuration and Hyperparameters\n",
    "data_dir = 'C:/Users/anujp/Desktop/dog_breed_classification/data/images/Images'  # Path to dataset\n",
    "sample_size = None  # Use None for full dataset or set to an integer for a subset\n",
    "batch_size = 64\n",
    "num_epochs = 20\n",
    "learning_rate = 0.0003\n",
    "num_classes = 120  # Number of dog breeds\n",
    "val_split = 0.05  # 5% of data for validation\n",
    "model_save_path = os.path.join(data_dir, 'models')\n",
    "model_filename = 'resnet50_dog_breed.pth'\n",
    "optimizer_filename = 'resnet50_optimizer.pth'\n",
    "\n",
    "# Create directories if they don't exist\n",
    "os.makedirs(model_save_path, exist_ok=True)\n"
   ]
  },
  {
   "cell_type": "markdown",
   "metadata": {},
   "source": [
    "4. Data Preprocessing\n"
   ]
  },
  {
   "cell_type": "code",
   "execution_count": 3,
   "metadata": {},
   "outputs": [
    {
     "name": "stdout",
     "output_type": "stream",
     "text": [
      "Files found: 20580 out of 20580\n",
      "Dataset Statistics:\n",
      "Total images: 20580\n",
      "Classes: 120\n",
      "                                 file_path  label  \\\n",
      "0  n02085620-Chihuahua/n02085620_10074.jpg      0   \n",
      "1  n02085620-Chihuahua/n02085620_10131.jpg      0   \n",
      "2  n02085620-Chihuahua/n02085620_10621.jpg      0   \n",
      "3   n02085620-Chihuahua/n02085620_1073.jpg      0   \n",
      "4  n02085620-Chihuahua/n02085620_10976.jpg      0   \n",
      "\n",
      "                                           full_path  file_exists  \n",
      "0  C:/Users/anujp/Desktop/dog_breed_classificatio...         True  \n",
      "1  C:/Users/anujp/Desktop/dog_breed_classificatio...         True  \n",
      "2  C:/Users/anujp/Desktop/dog_breed_classificatio...         True  \n",
      "3  C:/Users/anujp/Desktop/dog_breed_classificatio...         True  \n",
      "4  C:/Users/anujp/Desktop/dog_breed_classificatio...         True  \n",
      "\n",
      "DataFrame Head:\n",
      "                                           full_path  label\n",
      "0  C:/Users/anujp/Desktop/dog_breed_classificatio...      0\n",
      "1  C:/Users/anujp/Desktop/dog_breed_classificatio...      0\n",
      "2  C:/Users/anujp/Desktop/dog_breed_classificatio...      0\n",
      "3  C:/Users/anujp/Desktop/dog_breed_classificatio...      0\n",
      "4  C:/Users/anujp/Desktop/dog_breed_classificatio...      0\n"
     ]
    }
   ],
   "source": [
    "def data_preprocess(data_dir, mat_path, sample_size=None):\n",
    "    # Load annotations\n",
    "    annotations = scipy.io.loadmat(mat_path)\n",
    "    \n",
    "    # Extract file paths and labels\n",
    "    file_list = [str(f[0][0]).replace(\"//\", \"/\") for f in annotations['file_list']]  # Replace backslashes with forward slashes\n",
    "    # labels = [int(l[0]) for l in annotations['labels']]\n",
    "    labels = [int(l[0] - 1) for l in annotations['labels']]  # Subtract 1 from each label\n",
    "\n",
    "    \n",
    "    # Create DataFrame\n",
    "    labels_df = pd.DataFrame({\n",
    "        'file_path': file_list, \n",
    "        'label': labels        \n",
    "    })\n",
    "    \n",
    "    # Construct full paths to images\n",
    "    images_dir = os.path.join(data_dir, \"images\", \"Images\").replace(\"//\", \"/\")\n",
    "    labels_df['full_path'] = labels_df['file_path'].apply(\n",
    "        lambda x: os.path.join(images_dir, x).replace(\"\\\\\", \"/\")\n",
    "    )\n",
    "    \n",
    "    # Verify if files exist\n",
    "    labels_df['file_exists'] = labels_df['full_path'].apply(os.path.exists)\n",
    "    print(f\"Files found: {labels_df['file_exists'].sum()} out of {len(labels_df)}\")\n",
    "    \n",
    "    # Keep only existing files\n",
    "    labels_df = labels_df[labels_df['file_exists']].copy()\n",
    "    \n",
    "    # Filter by sample size (optional)\n",
    "    if sample_size:\n",
    "        labels_df = labels_df.sample(sample_size, random_state=42)\n",
    "    \n",
    "    print(f\"Dataset Statistics:\\nTotal images: {len(labels_df)}\\nClasses: {len(labels_df['label'].unique())}\")\n",
    "    print(labels_df.head())\n",
    "    \n",
    "    return labels_df[['full_path', 'label']]\n",
    "\n",
    "# Usage Example\n",
    "data_dir = \"C:/Users/anujp/Desktop/dog_breed_classification/data\"\n",
    "mat_path = os.path.join(data_dir, \"lists\", \"file_list.mat\").replace(\"\\\\\", \"/\")  # Use forward slashes\n",
    "sample_size = None  # Adjust as needed\n",
    "\n",
    "frame_lbl = data_preprocess(data_dir, mat_path, sample_size)\n",
    "\n",
    "print(\"\\nDataFrame Head:\")\n",
    "print(frame_lbl.head())\n"
   ]
  },
  {
   "cell_type": "code",
   "execution_count": 4,
   "metadata": {},
   "outputs": [],
   "source": [
    "from PIL import Image\n",
    "from torch.utils.data import Dataset\n",
    "\n",
    "class loader_image(Dataset):\n",
    "    def __init__(self, dataframe, transform=None, test=False):\n",
    "        self.data = dataframe.values  # Convert DataFrame to NumPy array\n",
    "        self.transform = transform\n",
    "        self.test = test\n",
    "\n",
    "    def __getitem__(self, index):\n",
    "        # Extract image path and label\n",
    "        image_path, label = self.data[index]\n",
    "        image = Image.open(image_path).convert(\"RGB\")  # Ensure image is converted to RGB\n",
    "        \n",
    "        if self.transform:\n",
    "            image = self.transform(image)\n",
    "        \n",
    "        # Return image and label (or only image in test mode)\n",
    "        if self.test:\n",
    "            return image\n",
    "        else:\n",
    "            return image, label\n",
    "\n",
    "    def __len__(self):\n",
    "        return len(self.data)\n"
   ]
  },
  {
   "cell_type": "code",
   "execution_count": 5,
   "metadata": {},
   "outputs": [],
   "source": [
    "def create_data_loaders(frame_lbl, batch_size, val_split):\n",
    "    # Create transformers\n",
    "    tf_train = transforms.Compose([\n",
    "        transforms.RandomResizedCrop(224),\n",
    "        transforms.RandomRotation(15),\n",
    "        transforms.RandomHorizontalFlip(),\n",
    "        transforms.ToTensor(),\n",
    "        transforms.Normalize([0.485, 0.456, 0.406], [0.229, 0.224, 0.225])\n",
    "    ])\n",
    "    \n",
    "    tf_val = transforms.Compose([\n",
    "        transforms.Resize(256),\n",
    "        transforms.CenterCrop(224),\n",
    "        transforms.ToTensor(),\n",
    "        transforms.Normalize([0.485, 0.456, 0.406], [0.229, 0.224, 0.225])\n",
    "    ])\n",
    "\n",
    "    # Split the dataset using stratified sampling\n",
    "    split = StratifiedShuffleSplit(n_splits=1, test_size=val_split, random_state=42)\n",
    "    \n",
    "    # Initialize train_df and val_df\n",
    "    train_df = None\n",
    "    val_df = None\n",
    "    \n",
    "    for train_idx, val_idx in split.split(frame_lbl, frame_lbl['label']):\n",
    "        train_df = frame_lbl.loc[train_idx]\n",
    "        val_df = frame_lbl.loc[val_idx]\n",
    "\n",
    "    # Create datasets\n",
    "    training_set = loader_image(train_df, transform=tf_train)\n",
    "    validation_set = loader_image(val_df, transform=tf_val)\n",
    "\n",
    "    # Create dataloaders\n",
    "    dataloader_train = DataLoader(\n",
    "        training_set, \n",
    "        batch_size=batch_size, \n",
    "        shuffle=True,\n",
    "        num_workers=0,\n",
    "        pin_memory=True\n",
    "    )\n",
    "    \n",
    "    dataloader_validation = DataLoader(\n",
    "        validation_set, \n",
    "        batch_size=batch_size, \n",
    "        shuffle=False,\n",
    "        num_workers=0,\n",
    "        pin_memory=True\n",
    "    )\n",
    "\n",
    "    print(f'Training set: {len(train_df)}, Validation set: {len(val_df)}')\n",
    "    \n",
    "    # Return the dataloaders\n",
    "    return dataloader_train, dataloader_validation"
   ]
  },
  {
   "cell_type": "code",
   "execution_count": 6,
   "metadata": {},
   "outputs": [
    {
     "name": "stdout",
     "output_type": "stream",
     "text": [
      "Training set: 19551, Validation set: 1029\n",
      "Number of training batches: 306\n",
      "Number of validation batches: 17\n"
     ]
    }
   ],
   "source": [
    "# Create Data Loaders\n",
    "dataloader_train, dataloader_validation = create_data_loaders(frame_lbl, batch_size, val_split=val_split)\n",
    "\n",
    "# Display the number of batches\n",
    "print(f\"Number of training batches: {len(dataloader_train)}\")\n",
    "print(f\"Number of validation batches: {len(dataloader_validation)}\")\n"
   ]
  },
  {
   "cell_type": "code",
   "execution_count": 7,
   "metadata": {},
   "outputs": [],
   "source": [
    "class CNN(nn.Module):\n",
    "    def __init__(self, base_model, num_classes):\n",
    "        super(CNN, self).__init__()\n",
    "        self.base_model = base_model\n",
    "        \n",
    "        # Remove the last layer of ResNet\n",
    "        self.base_model.fc = nn.Identity()\n",
    "        \n",
    "        # Add new classifier layers\n",
    "        self.classifier = nn.Sequential(\n",
    "            nn.Linear(2048, 512),  # ResNet50's output is 2048\n",
    "            nn.ReLU(),\n",
    "            nn.Dropout(0.2),\n",
    "            nn.Linear(512, num_classes)\n",
    "        )\n",
    "\n",
    "    def forward(self, x):\n",
    "        x = self.base_model(x)\n",
    "        x = self.classifier(x)\n",
    "        return x"
   ]
  },
  {
   "cell_type": "code",
   "execution_count": 8,
   "metadata": {},
   "outputs": [],
   "source": [
    "def create_model(num_classes):\n",
    "    # Load the pre-trained ResNet50\n",
    "    resnet = torchvision.models.resnet50(weights=torchvision.models.ResNet50_Weights.IMAGENET1K_V1)\n",
    "    \n",
    "    # Freeze the base model parameters\n",
    "    for param in resnet.parameters():\n",
    "        param.requires_grad = False\n",
    "    \n",
    "    # Create the model\n",
    "    model = CNN(resnet, num_classes)\n",
    "    \n",
    "    # Move to device\n",
    "    device = torch.device(\"cuda\" if torch.cuda.is_available() else \"cpu\")\n",
    "    print(device)\n",
    "    model = model.to(device)\n",
    "    \n",
    "    return model, device"
   ]
  },
  {
   "cell_type": "code",
   "execution_count": 14,
   "metadata": {},
   "outputs": [
    {
     "name": "stdout",
     "output_type": "stream",
     "text": [
      "cuda\n",
      "Loss Function: CrossEntropyLoss()\n",
      "Optimizer: Adam (\n",
      "Parameter Group 0\n",
      "    amsgrad: False\n",
      "    betas: (0.9, 0.999)\n",
      "    capturable: False\n",
      "    differentiable: False\n",
      "    eps: 1e-08\n",
      "    foreach: None\n",
      "    fused: None\n",
      "    lr: 0.0003\n",
      "    maximize: False\n",
      "    weight_decay: 0\n",
      ")\n"
     ]
    }
   ],
   "source": [
    "# Define Loss Function and Optimizer\n",
    "# CrossEntropyLoss is suitable for multi-class classification\n",
    "\n",
    "model, device = create_model(num_classes)\n",
    "\n",
    "loss_fn = nn.CrossEntropyLoss()\n",
    "\n",
    "# Use only trainable parameters (those with requires_grad=True)\n",
    "trainable_params = filter(lambda p: p.requires_grad, model.parameters())\n",
    "\n",
    "# Define the optimizer\n",
    "optimizer = optim.Adam(trainable_params, lr=learning_rate)\n",
    "\n",
    "# Display optimizer and loss function\n",
    "print(f\"Loss Function: {loss_fn}\")\n",
    "print(f\"Optimizer: {optimizer}\")\n"
   ]
  },
  {
   "cell_type": "code",
   "execution_count": 15,
   "metadata": {},
   "outputs": [
    {
     "name": "stdout",
     "output_type": "stream",
     "text": [
      "Initializing training...\n",
      "Total training batches: 306\n",
      "Total validation batches: 17\n",
      "Initial GPU memory usage: 94.1MB\n",
      "Starting training process...\n",
      "Training on device: cuda\n"
     ]
    },
    {
     "name": "stderr",
     "output_type": "stream",
     "text": [
      "Epoch 1/20 [Train]: 100%|██████████| 306/306 [04:54<00:00,  1.04it/s, loss=1.9622, gpu_mem=140.9MB]\n",
      "Epoch 1/20 [Val]: 100%|██████████| 17/17 [00:15<00:00,  1.13it/s, loss=0.8982]\n"
     ]
    },
    {
     "name": "stdout",
     "output_type": "stream",
     "text": [
      "\n",
      "Epoch 1/20 Summary:\n",
      "Train Loss: 2.9326, Train Acc: 0.3612\n",
      "Val Loss: 0.9860, Val Acc: 0.7640\n",
      "Time: 310.16s\n",
      "Saved best model to best_model_20241225_233407.pth\n",
      "Best Val Loss: 0.9860, Best Val Acc: 0.7640\n"
     ]
    },
    {
     "name": "stderr",
     "output_type": "stream",
     "text": [
      "Epoch 2/20 [Train]: 100%|██████████| 306/306 [04:02<00:00,  1.26it/s, loss=1.2200, gpu_mem=140.9MB]\n",
      "Epoch 2/20 [Val]: 100%|██████████| 17/17 [00:04<00:00,  3.45it/s, loss=0.6723]\n"
     ]
    },
    {
     "name": "stdout",
     "output_type": "stream",
     "text": [
      "\n",
      "Epoch 2/20 Summary:\n",
      "Train Loss: 1.5422, Train Acc: 0.5930\n",
      "Val Loss: 0.6604, Val Acc: 0.8228\n",
      "Time: 247.40s\n",
      "Saved best model to best_model_20241225_233815.pth\n",
      "Best Val Loss: 0.6604, Best Val Acc: 0.8228\n"
     ]
    },
    {
     "name": "stderr",
     "output_type": "stream",
     "text": [
      "Epoch 3/20 [Train]: 100%|██████████| 306/306 [01:32<00:00,  3.31it/s, loss=1.2404, gpu_mem=140.9MB]\n",
      "Epoch 3/20 [Val]: 100%|██████████| 17/17 [00:04<00:00,  3.55it/s, loss=0.4121]\n"
     ]
    },
    {
     "name": "stdout",
     "output_type": "stream",
     "text": [
      "\n",
      "Epoch 3/20 Summary:\n",
      "Train Loss: 1.3432, Train Acc: 0.6304\n",
      "Val Loss: 0.5663, Val Acc: 0.8233\n",
      "Time: 97.21s\n",
      "Saved best model to best_model_20241225_233952.pth\n",
      "Best Val Loss: 0.5663, Best Val Acc: 0.8233\n"
     ]
    },
    {
     "name": "stderr",
     "output_type": "stream",
     "text": [
      "Epoch 4/20 [Train]: 100%|██████████| 306/306 [01:32<00:00,  3.31it/s, loss=1.6591, gpu_mem=140.9MB]\n",
      "Epoch 4/20 [Val]: 100%|██████████| 17/17 [00:04<00:00,  3.53it/s, loss=0.3882]\n"
     ]
    },
    {
     "name": "stdout",
     "output_type": "stream",
     "text": [
      "\n",
      "Epoch 4/20 Summary:\n",
      "Train Loss: 1.2636, Train Acc: 0.6493\n",
      "Val Loss: 0.5021, Val Acc: 0.8421\n",
      "Time: 97.18s\n",
      "Saved best model to best_model_20241225_234129.pth\n",
      "Best Val Loss: 0.5021, Best Val Acc: 0.8421\n"
     ]
    },
    {
     "name": "stderr",
     "output_type": "stream",
     "text": [
      "Epoch 5/20 [Train]: 100%|██████████| 306/306 [01:31<00:00,  3.35it/s, loss=1.8130, gpu_mem=140.9MB]\n",
      "Epoch 5/20 [Val]: 100%|██████████| 17/17 [00:04<00:00,  3.52it/s, loss=0.4113]\n"
     ]
    },
    {
     "name": "stdout",
     "output_type": "stream",
     "text": [
      "\n",
      "Epoch 5/20 Summary:\n",
      "Train Loss: 1.2370, Train Acc: 0.6564\n",
      "Val Loss: 0.4798, Val Acc: 0.8463\n",
      "Time: 96.31s\n",
      "Saved best model to best_model_20241225_234306.pth\n",
      "Best Val Loss: 0.4798, Best Val Acc: 0.8463\n"
     ]
    },
    {
     "name": "stderr",
     "output_type": "stream",
     "text": [
      "Epoch 6/20 [Train]: 100%|██████████| 306/306 [01:31<00:00,  3.35it/s, loss=1.6604, gpu_mem=140.9MB]\n",
      "Epoch 6/20 [Val]: 100%|██████████| 17/17 [00:04<00:00,  3.49it/s, loss=0.6306]\n"
     ]
    },
    {
     "name": "stdout",
     "output_type": "stream",
     "text": [
      "\n",
      "Epoch 6/20 Summary:\n",
      "Train Loss: 1.2028, Train Acc: 0.6657\n",
      "Val Loss: 0.4741, Val Acc: 0.8482\n",
      "Time: 96.13s\n",
      "Saved best model to best_model_20241225_234442.pth\n",
      "Best Val Loss: 0.4741, Best Val Acc: 0.8482\n"
     ]
    },
    {
     "name": "stderr",
     "output_type": "stream",
     "text": [
      "Epoch 7/20 [Train]: 100%|██████████| 306/306 [01:31<00:00,  3.34it/s, loss=1.0274, gpu_mem=140.9MB]\n",
      "Epoch 7/20 [Val]: 100%|██████████| 17/17 [00:04<00:00,  3.53it/s, loss=0.2537]\n"
     ]
    },
    {
     "name": "stdout",
     "output_type": "stream",
     "text": [
      "\n",
      "Epoch 7/20 Summary:\n",
      "Train Loss: 1.1729, Train Acc: 0.6722\n",
      "Val Loss: 0.4430, Val Acc: 0.8554\n",
      "Time: 96.42s\n",
      "Saved best model to best_model_20241225_234618.pth\n",
      "Best Val Loss: 0.4430, Best Val Acc: 0.8554\n"
     ]
    },
    {
     "name": "stderr",
     "output_type": "stream",
     "text": [
      "Epoch 8/20 [Train]: 100%|██████████| 306/306 [01:31<00:00,  3.36it/s, loss=0.9270, gpu_mem=140.9MB]\n",
      "Epoch 8/20 [Val]: 100%|██████████| 17/17 [00:04<00:00,  3.51it/s, loss=0.4065]\n"
     ]
    },
    {
     "name": "stdout",
     "output_type": "stream",
     "text": [
      "\n",
      "Epoch 8/20 Summary:\n",
      "Train Loss: 1.1710, Train Acc: 0.6732\n",
      "Val Loss: 0.4585, Val Acc: 0.8542\n",
      "Time: 96.04s\n"
     ]
    },
    {
     "name": "stderr",
     "output_type": "stream",
     "text": [
      "Epoch 9/20 [Train]: 100%|██████████| 306/306 [01:38<00:00,  3.10it/s, loss=1.3965, gpu_mem=140.9MB]\n",
      "Epoch 9/20 [Val]: 100%|██████████| 17/17 [00:04<00:00,  3.52it/s, loss=0.3942]\n"
     ]
    },
    {
     "name": "stdout",
     "output_type": "stream",
     "text": [
      "\n",
      "Epoch 9/20 Summary:\n",
      "Train Loss: 1.1423, Train Acc: 0.6802\n",
      "Val Loss: 0.4532, Val Acc: 0.8561\n",
      "Time: 103.69s\n",
      "Saved best model to best_model_20241225_234938.pth\n",
      "Best Val Loss: 0.4430, Best Val Acc: 0.8561\n"
     ]
    },
    {
     "name": "stderr",
     "output_type": "stream",
     "text": [
      "Epoch 10/20 [Train]: 100%|██████████| 306/306 [01:30<00:00,  3.36it/s, loss=1.1354, gpu_mem=140.9MB]\n",
      "Epoch 10/20 [Val]: 100%|██████████| 17/17 [00:04<00:00,  3.53it/s, loss=0.3593]\n"
     ]
    },
    {
     "name": "stdout",
     "output_type": "stream",
     "text": [
      "\n",
      "Epoch 10/20 Summary:\n",
      "Train Loss: 1.1438, Train Acc: 0.6778\n",
      "Val Loss: 0.4536, Val Acc: 0.8514\n",
      "Time: 95.78s\n"
     ]
    },
    {
     "name": "stderr",
     "output_type": "stream",
     "text": [
      "Epoch 11/20 [Train]: 100%|██████████| 306/306 [01:30<00:00,  3.37it/s, loss=1.2974, gpu_mem=140.9MB]\n",
      "Epoch 11/20 [Val]: 100%|██████████| 17/17 [00:04<00:00,  3.54it/s, loss=0.4351]\n"
     ]
    },
    {
     "name": "stdout",
     "output_type": "stream",
     "text": [
      "\n",
      "Epoch 11/20 Summary:\n",
      "Train Loss: 1.1204, Train Acc: 0.6863\n",
      "Val Loss: 0.4634, Val Acc: 0.8561\n",
      "Time: 95.60s\n"
     ]
    },
    {
     "name": "stderr",
     "output_type": "stream",
     "text": [
      "Epoch 12/20 [Train]: 100%|██████████| 306/306 [01:32<00:00,  3.30it/s, loss=1.4309, gpu_mem=140.9MB]\n",
      "Epoch 12/20 [Val]: 100%|██████████| 17/17 [00:04<00:00,  3.50it/s, loss=0.2170]\n"
     ]
    },
    {
     "name": "stdout",
     "output_type": "stream",
     "text": [
      "\n",
      "Epoch 12/20 Summary:\n",
      "Train Loss: 1.1056, Train Acc: 0.6907\n",
      "Val Loss: 0.4333, Val Acc: 0.8616\n",
      "Time: 97.54s\n",
      "Saved best model to best_model_20241225_235427.pth\n",
      "Best Val Loss: 0.4333, Best Val Acc: 0.8616\n"
     ]
    },
    {
     "name": "stderr",
     "output_type": "stream",
     "text": [
      "Epoch 13/20 [Train]: 100%|██████████| 306/306 [01:31<00:00,  3.36it/s, loss=1.0846, gpu_mem=140.9MB]\n",
      "Epoch 13/20 [Val]: 100%|██████████| 17/17 [00:04<00:00,  3.50it/s, loss=0.3552]\n"
     ]
    },
    {
     "name": "stdout",
     "output_type": "stream",
     "text": [
      "\n",
      "Epoch 13/20 Summary:\n",
      "Train Loss: 1.1048, Train Acc: 0.6878\n",
      "Val Loss: 0.4187, Val Acc: 0.8679\n",
      "Time: 96.07s\n",
      "Saved best model to best_model_20241225_235603.pth\n",
      "Best Val Loss: 0.4187, Best Val Acc: 0.8679\n"
     ]
    },
    {
     "name": "stderr",
     "output_type": "stream",
     "text": [
      "Epoch 14/20 [Train]: 100%|██████████| 306/306 [01:31<00:00,  3.36it/s, loss=1.4534, gpu_mem=140.9MB]\n",
      "Epoch 14/20 [Val]: 100%|██████████| 17/17 [00:04<00:00,  3.52it/s, loss=0.2467]\n"
     ]
    },
    {
     "name": "stdout",
     "output_type": "stream",
     "text": [
      "\n",
      "Epoch 14/20 Summary:\n",
      "Train Loss: 1.1142, Train Acc: 0.6856\n",
      "Val Loss: 0.4196, Val Acc: 0.8646\n",
      "Time: 95.89s\n"
     ]
    },
    {
     "name": "stderr",
     "output_type": "stream",
     "text": [
      "Epoch 15/20 [Train]: 100%|██████████| 306/306 [01:30<00:00,  3.37it/s, loss=1.2565, gpu_mem=140.9MB]\n",
      "Epoch 15/20 [Val]: 100%|██████████| 17/17 [00:04<00:00,  3.50it/s, loss=0.3912]\n"
     ]
    },
    {
     "name": "stdout",
     "output_type": "stream",
     "text": [
      "\n",
      "Epoch 15/20 Summary:\n",
      "Train Loss: 1.0847, Train Acc: 0.6948\n",
      "Val Loss: 0.4342, Val Acc: 0.8615\n",
      "Time: 95.61s\n"
     ]
    },
    {
     "name": "stderr",
     "output_type": "stream",
     "text": [
      "Epoch 16/20 [Train]: 100%|██████████| 306/306 [01:30<00:00,  3.37it/s, loss=0.8760, gpu_mem=140.9MB]\n",
      "Epoch 16/20 [Val]: 100%|██████████| 17/17 [00:04<00:00,  3.51it/s, loss=0.4356]\n"
     ]
    },
    {
     "name": "stdout",
     "output_type": "stream",
     "text": [
      "\n",
      "Epoch 16/20 Summary:\n",
      "Train Loss: 1.0893, Train Acc: 0.6947\n",
      "Val Loss: 0.4189, Val Acc: 0.8583\n",
      "Time: 95.75s\n"
     ]
    },
    {
     "name": "stderr",
     "output_type": "stream",
     "text": [
      "Epoch 17/20 [Train]: 100%|██████████| 306/306 [01:31<00:00,  3.36it/s, loss=1.1292, gpu_mem=140.9MB]\n",
      "Epoch 17/20 [Val]: 100%|██████████| 17/17 [00:04<00:00,  3.54it/s, loss=0.6164]\n"
     ]
    },
    {
     "name": "stdout",
     "output_type": "stream",
     "text": [
      "\n",
      "Epoch 17/20 Summary:\n",
      "Train Loss: 1.0714, Train Acc: 0.6993\n",
      "Val Loss: 0.4262, Val Acc: 0.8603\n",
      "Time: 95.98s\n"
     ]
    },
    {
     "name": "stderr",
     "output_type": "stream",
     "text": [
      "Epoch 18/20 [Train]: 100%|██████████| 306/306 [01:32<00:00,  3.31it/s, loss=1.1336, gpu_mem=140.9MB]\n",
      "Epoch 18/20 [Val]: 100%|██████████| 17/17 [00:04<00:00,  3.54it/s, loss=0.3496]\n"
     ]
    },
    {
     "name": "stdout",
     "output_type": "stream",
     "text": [
      "\n",
      "Epoch 18/20 Summary:\n",
      "Train Loss: 1.0652, Train Acc: 0.6977\n",
      "Val Loss: 0.4221, Val Acc: 0.8594\n",
      "Time: 97.14s\n"
     ]
    },
    {
     "name": "stderr",
     "output_type": "stream",
     "text": [
      "Epoch 19/20 [Train]: 100%|██████████| 306/306 [01:41<00:00,  3.03it/s, loss=1.0778, gpu_mem=140.9MB]\n",
      "Epoch 19/20 [Val]: 100%|██████████| 17/17 [00:04<00:00,  3.53it/s, loss=0.3859]\n"
     ]
    },
    {
     "name": "stdout",
     "output_type": "stream",
     "text": [
      "\n",
      "Epoch 19/20 Summary:\n",
      "Train Loss: 1.0582, Train Acc: 0.7024\n",
      "Val Loss: 0.4150, Val Acc: 0.8600\n",
      "Time: 105.88s\n",
      "Saved best model to best_model_20241226_000550.pth\n",
      "Best Val Loss: 0.4150, Best Val Acc: 0.8679\n"
     ]
    },
    {
     "name": "stderr",
     "output_type": "stream",
     "text": [
      "Epoch 20/20 [Train]: 100%|██████████| 306/306 [01:31<00:00,  3.36it/s, loss=1.1386, gpu_mem=140.9MB]\n",
      "Epoch 20/20 [Val]: 100%|██████████| 17/17 [00:04<00:00,  3.51it/s, loss=0.4175]"
     ]
    },
    {
     "name": "stdout",
     "output_type": "stream",
     "text": [
      "\n",
      "Epoch 20/20 Summary:\n",
      "Train Loss: 1.0723, Train Acc: 0.7014\n",
      "Val Loss: 0.4066, Val Acc: 0.8668\n",
      "Time: 96.03s\n",
      "Saved best model to best_model_20241226_000726.pth\n",
      "Best Val Loss: 0.4066, Best Val Acc: 0.8679\n",
      "Training completed successfully!\n"
     ]
    },
    {
     "name": "stderr",
     "output_type": "stream",
     "text": [
      "\n"
     ]
    }
   ],
   "source": [
    "def train_model(train_loader, val_loader, device, model, criterion, optimizer, epochs):\n",
    "    print(\"Starting training process...\")\n",
    "    print(f\"Training on device: {device}\")\n",
    "    \n",
    "    # Lists for tracking metrics\n",
    "    metrics = {\n",
    "        'train_losses': [],\n",
    "        'val_losses': [],\n",
    "        'train_accuracies': [],\n",
    "        'val_accuracies': [],\n",
    "        'learning_rates': [],\n",
    "        'training_times': []\n",
    "    }\n",
    "\n",
    "    # Initialize metrics tracking\n",
    "    train_acc_metric = torchmetrics.Accuracy(num_classes=120, average='macro', task='multiclass').to(device)\n",
    "    val_acc_metric = torchmetrics.Accuracy(num_classes=120, average='macro', task='multiclass').to(device)\n",
    "    \n",
    "    # Initialize best model tracking\n",
    "    best_val_loss = float('inf')\n",
    "    best_val_acc = 0.0\n",
    "    \n",
    "    try:\n",
    "        for epoch in range(epochs):\n",
    "            start_time = time.time()\n",
    "            current_lr = optimizer.param_groups[0]['lr']\n",
    "            metrics['learning_rates'].append(current_lr)\n",
    "            \n",
    "            # Training Phase\n",
    "            model.train()\n",
    "            train_batch_losses = []\n",
    "            \n",
    "            # Progress tracking\n",
    "            train_progress = tqdm(train_loader, desc=f'Epoch {epoch+1}/{epochs} [Train]')\n",
    "            \n",
    "            for batch_idx, (inputs, targets) in enumerate(train_progress):\n",
    "                try:\n",
    "                    # Clear GPU cache periodically\n",
    "                    if batch_idx % 100 == 0 and torch.cuda.is_available():\n",
    "                        torch.cuda.empty_cache()\n",
    "                    \n",
    "                    # Verify data ranges\n",
    "                    assert targets.min() >= 0 and targets.max() < 120, \\\n",
    "                        f\"Target values out of range: min={targets.min()}, max={targets.max()}\"\n",
    "                    \n",
    "                    # Move data to device\n",
    "                    inputs, targets = inputs.to(device), targets.to(device)\n",
    "                    \n",
    "                    # Forward pass\n",
    "                    optimizer.zero_grad()\n",
    "                    outputs = model(inputs)\n",
    "                    loss = criterion(outputs, targets)\n",
    "                    \n",
    "                    # Backward pass\n",
    "                    loss.backward()\n",
    "                    optimizer.step()\n",
    "                    \n",
    "                    # Track metrics\n",
    "                    train_batch_losses.append(loss.item())\n",
    "                    train_acc_metric.update(outputs, targets)\n",
    "                    \n",
    "                    # Update progress bar\n",
    "                    train_progress.set_postfix({\n",
    "                        'loss': f'{loss.item():.4f}',\n",
    "                        'gpu_mem': f'{torch.cuda.memory_allocated()/1024**2:.1f}MB' if torch.cuda.is_available() else 'N/A'\n",
    "                    })\n",
    "                    \n",
    "                except RuntimeError as e:\n",
    "                    print(f\"\\nError in training batch {batch_idx}:\")\n",
    "                    print(f\"Input shape: {inputs.shape}, Target shape: {targets.shape}\")\n",
    "                    print(f\"Target range: {targets.min()}-{targets.max()}\")\n",
    "                    raise e\n",
    "\n",
    "            # Validation Phase\n",
    "            model.eval()\n",
    "            val_batch_losses = []\n",
    "            val_progress = tqdm(val_loader, desc=f'Epoch {epoch+1}/{epochs} [Val]')\n",
    "            \n",
    "            with torch.no_grad():\n",
    "                for inputs, targets in val_progress:\n",
    "                    try:\n",
    "                        inputs, targets = inputs.to(device), targets.to(device)\n",
    "                        outputs = model(inputs)\n",
    "                        loss = criterion(outputs, targets)\n",
    "                        val_batch_losses.append(loss.item())\n",
    "                        val_acc_metric.update(outputs, targets)\n",
    "                        \n",
    "                        val_progress.set_postfix({'loss': f'{loss.item():.4f}'})\n",
    "                        \n",
    "                    except RuntimeError as e:\n",
    "                        print(f\"\\nError in validation batch:\")\n",
    "                        print(f\"Input shape: {inputs.shape}, Target shape: {targets.shape}\")\n",
    "                        raise e\n",
    "\n",
    "            # Calculate metrics\n",
    "            train_loss = sum(train_batch_losses) / len(train_batch_losses)\n",
    "            val_loss = sum(val_batch_losses) / len(val_batch_losses)\n",
    "            train_acc = train_acc_metric.compute().item()\n",
    "            val_acc = val_acc_metric.compute().item()\n",
    "            epoch_time = time.time() - start_time\n",
    "\n",
    "            # Store metrics\n",
    "            metrics['train_losses'].append(train_loss)\n",
    "            metrics['val_losses'].append(val_loss)\n",
    "            metrics['train_accuracies'].append(train_acc)\n",
    "            metrics['val_accuracies'].append(val_acc)\n",
    "            metrics['training_times'].append(epoch_time)\n",
    "\n",
    "            # Reset metrics\n",
    "            train_acc_metric.reset()\n",
    "            val_acc_metric.reset()\n",
    "\n",
    "            # Print epoch summary\n",
    "            print(f\"\\nEpoch {epoch+1}/{epochs} Summary:\")\n",
    "            print(f\"Train Loss: {train_loss:.4f}, Train Acc: {train_acc:.4f}\")\n",
    "            print(f\"Val Loss: {val_loss:.4f}, Val Acc: {val_acc:.4f}\")\n",
    "            print(f\"Time: {epoch_time:.2f}s\")\n",
    "\n",
    "            # Save best model\n",
    "            if val_loss < best_val_loss or val_acc > best_val_acc:\n",
    "                best_val_loss = min(val_loss, best_val_loss)\n",
    "                best_val_acc = max(val_acc, best_val_acc)\n",
    "                \n",
    "                # Save model with timestamp\n",
    "                timestamp = time.strftime(\"%Y%m%d_%H%M%S\")\n",
    "                save_path = f'best_model_{timestamp}.pth'\n",
    "                torch.save({\n",
    "                    'epoch': epoch,\n",
    "                    'model_state_dict': model.state_dict(),\n",
    "                    'optimizer_state_dict': optimizer.state_dict(),\n",
    "                    'val_loss': val_loss,\n",
    "                    'val_acc': val_acc,\n",
    "                }, save_path)\n",
    "                \n",
    "                print(f\"Saved best model to {save_path}\")\n",
    "                print(f\"Best Val Loss: {best_val_loss:.4f}, Best Val Acc: {best_val_acc:.4f}\")\n",
    "            \n",
    "            # Optional: Early stopping check could be added here\n",
    "            \n",
    "    except KeyboardInterrupt:\n",
    "        print(\"\\nTraining interrupted by user\")\n",
    "    except Exception as e:\n",
    "        print(f\"\\nAn error occurred during training: {str(e)}\")\n",
    "        raise e\n",
    "    finally:\n",
    "        # Clean up\n",
    "        if torch.cuda.is_available():\n",
    "            torch.cuda.empty_cache()\n",
    "    \n",
    "    return metrics\n",
    "\n",
    "# Training execution\n",
    "try:\n",
    "    print(\"Initializing training...\")\n",
    "    print(f\"Total training batches: {len(dataloader_train)}\")\n",
    "    print(f\"Total validation batches: {len(dataloader_validation)}\")\n",
    "    \n",
    "    # Clear GPU memory before training\n",
    "    if torch.cuda.is_available():\n",
    "        torch.cuda.empty_cache()\n",
    "        print(f\"Initial GPU memory usage: {torch.cuda.memory_allocated()/1024**2:.1f}MB\")\n",
    "    \n",
    "    metrics = train_model(\n",
    "        dataloader_train,\n",
    "        dataloader_validation,\n",
    "        device,\n",
    "        model,\n",
    "        loss_fn,\n",
    "        optimizer,\n",
    "        num_epochs\n",
    "    )\n",
    "    \n",
    "    print(\"Training completed successfully!\")\n",
    "    \n",
    "except Exception as e:\n",
    "    print(f\"An error occurred during training setup: {str(e)}\")\n",
    "    raise e"
   ]
  },
  {
   "cell_type": "code",
   "execution_count": 16,
   "metadata": {},
   "outputs": [
    {
     "data": {
      "image/png": "[encoded data removed]",
      "text/plain": [
       "<Figure size 1500x1000 with 4 Axes>"
      ]
     },
     "metadata": {},
     "output_type": "display_data"
    },
    {
     "name": "stdout",
     "output_type": "stream",
     "text": [
      "Plots have been saved successfully!\n"
     ]
    }
   ],
   "source": [
    "def plot_training_metrics(metrics):\n",
    "    import matplotlib.pyplot as plt\n",
    "    \n",
    "    # Create figure with 2x2 subplots\n",
    "    fig, ((ax1, ax2), (ax3, ax4)) = plt.subplots(2, 2, figsize=(15, 10))\n",
    "    \n",
    "    # Plot Training and Validation Loss\n",
    "    ax1.plot(metrics['train_losses'], label='Training Loss')\n",
    "    ax1.plot(metrics['val_losses'], label='Validation Loss')\n",
    "    ax1.set_title('Loss Over Epochs')\n",
    "    ax1.set_xlabel('Epoch')\n",
    "    ax1.set_ylabel('Loss')\n",
    "    ax1.legend()\n",
    "    ax1.grid(True)\n",
    "    \n",
    "    # Plot Training and Validation Accuracy\n",
    "    ax2.plot(metrics['train_accuracies'], label='Training Accuracy')\n",
    "    ax2.plot(metrics['val_accuracies'], label='Validation Accuracy')\n",
    "    ax2.set_title('Accuracy Over Epochs')\n",
    "    ax2.set_xlabel('Epoch')\n",
    "    ax2.set_ylabel('Accuracy')\n",
    "    ax2.legend()\n",
    "    ax2.grid(True)\n",
    "    \n",
    "    # Plot Learning Rate\n",
    "    ax3.plot(metrics['learning_rates'], label='Learning Rate')\n",
    "    ax3.set_title('Learning Rate Over Epochs')\n",
    "    ax3.set_xlabel('Epoch')\n",
    "    ax3.set_ylabel('Learning Rate')\n",
    "    ax3.legend()\n",
    "    ax3.grid(True)\n",
    "    \n",
    "    # Plot Training Times\n",
    "    ax4.plot(metrics['training_times'], label='Time per Epoch')\n",
    "    ax4.set_title('Training Time per Epoch')\n",
    "    ax4.set_xlabel('Epoch')\n",
    "    ax4.set_ylabel('Time (seconds)')\n",
    "    ax4.legend()\n",
    "    ax4.grid(True)\n",
    "    \n",
    "    # Adjust layout and display\n",
    "    plt.tight_layout()\n",
    "    plt.show()\n",
    "    \n",
    "    # Save the plot\n",
    "    plt.savefig('training_metrics.png')\n",
    "    plt.close()\n",
    "\n",
    "# Function for plotting a single metric\n",
    "def plot_metric(metric_name, values, title, xlabel='Epoch', ylabel=None):\n",
    "    plt.figure(figsize=(10, 6))\n",
    "    plt.plot(values)\n",
    "    plt.title(title)\n",
    "    plt.xlabel(xlabel)\n",
    "    plt.ylabel(ylabel if ylabel else metric_name)\n",
    "    plt.grid(True)\n",
    "    plt.savefig(f'{metric_name.lower()}_plot.png')\n",
    "    plt.close()\n",
    "\n",
    "# After training completes, use the metrics dictionary to create plots\n",
    "try:\n",
    "    # Create overall metrics plot\n",
    "    plot_training_metrics(metrics)\n",
    "    \n",
    "    # Create individual metric plots\n",
    "    plot_metric('Loss', metrics['train_losses'], 'Training Loss Over Time')\n",
    "    plot_metric('Accuracy', metrics['train_accuracies'], 'Training Accuracy Over Time', ylabel='Accuracy (%)')\n",
    "    \n",
    "    print(\"Plots have been saved successfully!\")\n",
    "    \n",
    "except Exception as e:\n",
    "    print(f\"Error creating plots: {str(e)}\")"
   ]
  },
  {
   "cell_type": "code",
   "execution_count": 20,
   "metadata": {},
   "outputs": [
    {
     "name": "stderr",
     "output_type": "stream",
     "text": [
      "C:\\Users\\anujp\\AppData\\Local\\Temp\\ipykernel_25448\\1995988774.py:10: FutureWarning: You are using `torch.load` with `weights_only=False` (the current default value), which uses the default pickle module implicitly. It is possible to construct malicious pickle data which will execute arbitrary code during unpickling (See https://github.com/pytorch/pytorch/blob/main/SECURITY.md#untrusted-models for more details). In a future release, the default value for `weights_only` will be flipped to `True`. This limits the functions that could be executed during unpickling. Arbitrary objects will no longer be allowed to be loaded via this mode unless they are explicitly allowlisted by the user via `torch.serialization.add_safe_globals`. We recommend you start setting `weights_only=True` for any use case where you don't have full control of the loaded file. Please open an issue on GitHub for any issues related to this experimental feature.\n",
      "  checkpoint = torch.load(model_path)\n"
     ]
    },
    {
     "name": "stdout",
     "output_type": "stream",
     "text": [
      "Predicted class: 83\n",
      "Confidence: 0.96\n"
     ]
    }
   ],
   "source": [
    "def load_model_for_inference(model_path, device):\n",
    "    # Load the pre-trained ResNet50\n",
    "    resnet = torchvision.models.resnet50(weights=torchvision.models.ResNet50_Weights.IMAGENET1K_V1)\n",
    "    \n",
    "    # Create model with same architecture\n",
    "    model = CNN(resnet, num_classes=120)\n",
    "    model = model.to(device)\n",
    "    \n",
    "    # Load the trained weights\n",
    "    checkpoint = torch.load(model_path)\n",
    "    model.load_state_dict(checkpoint['model_state_dict'])\n",
    "    \n",
    "    # Set to evaluation mode\n",
    "    model.eval()\n",
    "    return model\n",
    "\n",
    "def predict_image(model, image_path, device):\n",
    "    # Load and preprocess the image\n",
    "    transform = transforms.Compose([\n",
    "        transforms.Resize(256),\n",
    "        transforms.CenterCrop(224),\n",
    "        transforms.ToTensor(),\n",
    "        transforms.Normalize([0.485, 0.456, 0.406], [0.229, 0.224, 0.225])\n",
    "    ])\n",
    "    \n",
    "    # Load image and apply transforms\n",
    "    image = Image.open(image_path).convert('RGB')\n",
    "    image = transform(image).unsqueeze(0)  # Add batch dimension\n",
    "    image = image.to(device)\n",
    "    \n",
    "    # Make prediction\n",
    "    with torch.no_grad():\n",
    "        outputs = model(image)\n",
    "        _, predicted = torch.max(outputs, 1)\n",
    "        confidence = torch.nn.functional.softmax(outputs, dim=1)[0]\n",
    "        \n",
    "    return predicted.item(), confidence[predicted].item()\n",
    "\n",
    "# Usage example:\n",
    "device = torch.device(\"cuda\" if torch.cuda.is_available() else \"cpu\")\n",
    "model_path = 'C:/Users/anujp/Desktop/dog_breed_classification/best_model_20241226_000726.pth'  # Replace with your saved model path\n",
    "model = load_model_for_inference(model_path, device)\n",
    "\n",
    "# Test on a single image\n",
    "image_path = 'C:/Users/anujp/Desktop/dog_breed_classification/data/images/Images/n02106550-Rottweiler/n02106550_3886.jpg'  # Replace with your test image path\n",
    "#C:\\Users\\anujp\\Desktop\\dog_breed_classification\\data\\images\\Images\\\n",
    "predicted_class, confidence = predict_image(model, image_path, device)\n",
    "print(f\"Predicted class: {predicted_class}\")\n",
    "print(f\"Confidence: {confidence:.2f}\")"
   ]
  },
  {
   "cell_type": "code",
   "execution_count": null,
   "metadata": {},
   "outputs": [
    {
     "name": "stderr",
     "output_type": "stream",
     "text": [
      "C:\\Users\\anujp\\AppData\\Local\\Temp\\ipykernel_25448\\1995988774.py:10: FutureWarning: You are using `torch.load` with `weights_only=False` (the current default value), which uses the default pickle module implicitly. It is possible to construct malicious pickle data which will execute arbitrary code during unpickling (See https://github.com/pytorch/pytorch/blob/main/SECURITY.md#untrusted-models for more details). In a future release, the default value for `weights_only` will be flipped to `True`. This limits the functions that could be executed during unpickling. Arbitrary objects will no longer be allowed to be loaded via this mode unless they are explicitly allowlisted by the user via `torch.serialization.add_safe_globals`. We recommend you start setting `weights_only=True` for any use case where you don't have full control of the loaded file. Please open an issue on GitHub for any issues related to this experimental feature.\n",
      "  checkpoint = torch.load(model_path)\n"
     ]
    },
    {
     "name": "stdout",
     "output_type": "stream",
     "text": [
      "Available keys in mat file: dict_keys(['__header__', '__version__', '__globals__', 'file_list', 'annotation_list', 'labels'])\n",
      "\n",
      "Found 119 breeds:\n",
      "['Chihuahua', 'Japanese_spaniel', 'Maltese_dog', 'Pekinese', 'Tzu'] ...\n"
     ]
    },
    {
     "ename": "IndexError",
     "evalue": "list index out of range",
     "output_type": "error",
     "traceback": [
      "\u001b[1;31m---------------------------------------------------------------------------\u001b[0m",
      "\u001b[1;31mIndexError\u001b[0m                                Traceback (most recent call last)",
      "Cell \u001b[1;32mIn[24], line 62\u001b[0m\n\u001b[0;32m     58\u001b[0m image_path \u001b[38;5;241m=\u001b[39m \u001b[38;5;124m'\u001b[39m\u001b[38;5;124mC:/Users/anujp/Desktop/dog_breed_classification/data/images/Images/n02115913-dhole/n02115913_25.jpg\u001b[39m\u001b[38;5;124m'\u001b[39m\n\u001b[0;32m     59\u001b[0m \u001b[38;5;66;03m#data\\images\\Images\\\u001b[39;00m\n\u001b[0;32m     60\u001b[0m \n\u001b[0;32m     61\u001b[0m \u001b[38;5;66;03m# Get predictions\u001b[39;00m\n\u001b[1;32m---> 62\u001b[0m predictions \u001b[38;5;241m=\u001b[39m \u001b[43mpredict_image_with_breed\u001b[49m\u001b[43m(\u001b[49m\u001b[43mmodel\u001b[49m\u001b[43m,\u001b[49m\u001b[43m \u001b[49m\u001b[43mimage_path\u001b[49m\u001b[43m,\u001b[49m\u001b[43m \u001b[49m\u001b[43mdevice\u001b[49m\u001b[43m,\u001b[49m\u001b[43m \u001b[49m\u001b[43mbreed_names\u001b[49m\u001b[43m)\u001b[49m\n\u001b[0;32m     64\u001b[0m \u001b[38;5;66;03m# Print results\u001b[39;00m\n\u001b[0;32m     65\u001b[0m \u001b[38;5;28mprint\u001b[39m(\u001b[38;5;124m\"\u001b[39m\u001b[38;5;130;01m\\n\u001b[39;00m\u001b[38;5;124mPredictions:\u001b[39m\u001b[38;5;124m\"\u001b[39m)\n",
      "Cell \u001b[1;32mIn[24], line 42\u001b[0m, in \u001b[0;36mpredict_image_with_breed\u001b[1;34m(model, image_path, device, breed_names)\u001b[0m\n\u001b[0;32m     40\u001b[0m     \u001b[38;5;66;03m# Get top-5 predictions\u001b[39;00m\n\u001b[0;32m     41\u001b[0m     top5_conf, top5_pred \u001b[38;5;241m=\u001b[39m torch\u001b[38;5;241m.\u001b[39mtopk(confidence, \u001b[38;5;241m5\u001b[39m)\n\u001b[1;32m---> 42\u001b[0m     top5_results \u001b[38;5;241m=\u001b[39m [(breed_names[idx], conf\u001b[38;5;241m.\u001b[39mitem()) \u001b[38;5;28;01mfor\u001b[39;00m idx, conf \u001b[38;5;129;01min\u001b[39;00m \u001b[38;5;28mzip\u001b[39m(top5_pred, top5_conf)]\n\u001b[0;32m     44\u001b[0m \u001b[38;5;28;01mreturn\u001b[39;00m top5_results\n",
      "Cell \u001b[1;32mIn[24], line 42\u001b[0m, in \u001b[0;36m<listcomp>\u001b[1;34m(.0)\u001b[0m\n\u001b[0;32m     40\u001b[0m     \u001b[38;5;66;03m# Get top-5 predictions\u001b[39;00m\n\u001b[0;32m     41\u001b[0m     top5_conf, top5_pred \u001b[38;5;241m=\u001b[39m torch\u001b[38;5;241m.\u001b[39mtopk(confidence, \u001b[38;5;241m5\u001b[39m)\n\u001b[1;32m---> 42\u001b[0m     top5_results \u001b[38;5;241m=\u001b[39m [(\u001b[43mbreed_names\u001b[49m\u001b[43m[\u001b[49m\u001b[43midx\u001b[49m\u001b[43m]\u001b[49m, conf\u001b[38;5;241m.\u001b[39mitem()) \u001b[38;5;28;01mfor\u001b[39;00m idx, conf \u001b[38;5;129;01min\u001b[39;00m \u001b[38;5;28mzip\u001b[39m(top5_pred, top5_conf)]\n\u001b[0;32m     44\u001b[0m \u001b[38;5;28;01mreturn\u001b[39;00m top5_results\n",
      "\u001b[1;31mIndexError\u001b[0m: list index out of range"
     ]
    }
   ],
   "source": [
    "def get_breed_names(mat_path):\n",
    "    # Load annotations\n",
    "    annotations = scipy.io.loadmat(mat_path)\n",
    "    \n",
    "    # Print available keys to debug\n",
    "    print(\"Available keys in mat file:\", annotations.keys())\n",
    "    \n",
    "    # Get the first file path and extract breed name from it\n",
    "    file_list = [str(f[0][0]) for f in annotations['file_list']]\n",
    "    \n",
    "    # Extract unique breed names from file paths\n",
    "    breed_names = []\n",
    "    for file_path in file_list:\n",
    "        # Extract breed name from path (assuming format: nXXXXXXXX-breed_name/...)\n",
    "        breed = file_path.split('/')[0].split('-')[-1]\n",
    "        if breed not in breed_names:\n",
    "            breed_names.append(breed)\n",
    "    \n",
    "    return breed_names\n",
    "\n",
    "def predict_image_with_breed(model, image_path, device, breed_names):\n",
    "    transform = transforms.Compose([\n",
    "        transforms.Resize(256),\n",
    "        transforms.CenterCrop(224),\n",
    "        transforms.ToTensor(),\n",
    "        transforms.Normalize([0.485, 0.456, 0.406], [0.229, 0.224, 0.225])\n",
    "    ])\n",
    "    \n",
    "    # Load and transform image\n",
    "    image = Image.open(image_path).convert('RGB')\n",
    "    image = transform(image).unsqueeze(0)\n",
    "    image = image.to(device)\n",
    "    \n",
    "    # Predict\n",
    "    with torch.no_grad():\n",
    "        outputs = model(image)\n",
    "        _, predicted = torch.max(outputs, 1)\n",
    "        confidence = torch.nn.functional.softmax(outputs, dim=1)[0]\n",
    "        \n",
    "        # Get top-5 predictions\n",
    "        top5_conf, top5_pred = torch.topk(confidence, 5)\n",
    "        top5_results = [(breed_names[idx], conf.item()) for idx, conf in zip(top5_pred, top5_conf)]\n",
    "        \n",
    "    return top5_results\n",
    "\n",
    "# Usage\n",
    "device = torch.device(\"cuda\" if torch.cuda.is_available() else \"cpu\")\n",
    "model_path = 'C:/Users/anujp/Desktop/dog_breed_classification/best_model_20241226_000726.pth'\n",
    "mat_path = \"C:/Users/anujp/Desktop/dog_breed_classification/data/lists/file_list.mat\"\n",
    "\n",
    "# Load model and breed names\n",
    "model = load_model_for_inference(model_path, device)\n",
    "breed_names = get_breed_names(mat_path)\n",
    "print(\"\\nFound\", len(breed_names), \"breeds:\")\n",
    "print(breed_names[:5], \"...\") # Print first 5 breeds as example\n",
    "\n",
    "# Test image\n",
    "image_path = 'C:/Users/anujp/Desktop/dog_breed_classification/data/images/Images/n02115641-dingo/n02115641_136.jpg'\n",
    "#data\\images\\Images\\\n",
    "#C:\\Users\\anujp\\Desktop\\dog_breed_classification\\data\\images\\Images\\n02115641-dingo\\n02115641_136.jpg\n",
    "\n",
    "# Get predictions\n",
    "predictions = predict_image_with_breed(model, image_path, device, breed_names)\n",
    "\n",
    "# Print results\n",
    "print(\"\\nPredictions:\")\n",
    "print(\"-\" * 50)\n",
    "for i, (breed, confidence) in enumerate(predictions, 1):\n",
    "    print(f\"{i}. Breed: {breed}\")\n",
    "    print(f\"   Confidence: {confidence*100:.2f}%\")\n",
    "    print(\"-\" * 50)"
   ]
  },
  {
   "cell_type": "code",
   "execution_count": null,
   "metadata": {},
   "outputs": [],
   "source": []
  }
 ],
 "metadata": {
  "kernelspec": {
   "display_name": "reinforcement_learning",
   "language": "python",
   "name": "python3"
  },
  "language_info": {
   "codemirror_mode": {
    "name": "ipython",
    "version": 3
   },
   "file_extension": ".py",
   "mimetype": "text/x-python",
   "name": "python",
   "nbconvert_exporter": "python",
   "pygments_lexer": "ipython3",
   "version": "3.10.15"
  }
 },
 "nbformat": 4,
 "nbformat_minor": 2
}
